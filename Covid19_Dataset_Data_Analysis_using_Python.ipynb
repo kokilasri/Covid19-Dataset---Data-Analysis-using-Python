{
  "nbformat": 4,
  "nbformat_minor": 0,
  "metadata": {
    "colab": {
      "name": "Covid19 Dataset - Data Analysis using Python.ipynb",
      "provenance": [],
      "authorship_tag": "ABX9TyMxOGbBs2JGqJtGG9veBmnp",
      "include_colab_link": true
    },
    "kernelspec": {
      "name": "python3",
      "display_name": "Python 3"
    }
  },
  "cells": [
    {
      "cell_type": "markdown",
      "metadata": {
        "id": "view-in-github",
        "colab_type": "text"
      },
      "source": [
        "<a href=\"https://colab.research.google.com/github/kokilasri/Covid19-Dataset---Data-Analysis-using-Python/blob/main/Covid19_Dataset_Data_Analysis_using_Python.ipynb\" target=\"_parent\"><img src=\"https://colab.research.google.com/assets/colab-badge.svg\" alt=\"Open In Colab\"/></a>"
      ]
    },
    {
      "cell_type": "markdown",
      "metadata": {
        "id": "sKQZxAo5-VC7"
      },
      "source": [
        "# COVID19 SMALL DATASET"
      ]
    },
    {
      "cell_type": "code",
      "metadata": {
        "id": "_imoF2VO8npQ"
      },
      "source": [
        "import pandas as pd"
      ],
      "execution_count": 1,
      "outputs": []
    },
    {
      "cell_type": "code",
      "metadata": {
        "id": "lR5zq9zQ-BhX"
      },
      "source": [
        "data = pd.read_csv(\"covid_19_data.csv\")"
      ],
      "execution_count": 33,
      "outputs": []
    },
    {
      "cell_type": "code",
      "metadata": {
        "colab": {
          "base_uri": "https://localhost:8080/",
          "height": 402
        },
        "id": "PycyH2bm-JOf",
        "outputId": "7cd8c82a-10cb-4c68-c2e8-f29e2ae8a1ee"
      },
      "source": [
        "data"
      ],
      "execution_count": 3,
      "outputs": [
        {
          "output_type": "execute_result",
          "data": {
            "text/html": [
              "<div>\n",
              "<style scoped>\n",
              "    .dataframe tbody tr th:only-of-type {\n",
              "        vertical-align: middle;\n",
              "    }\n",
              "\n",
              "    .dataframe tbody tr th {\n",
              "        vertical-align: top;\n",
              "    }\n",
              "\n",
              "    .dataframe thead th {\n",
              "        text-align: right;\n",
              "    }\n",
              "</style>\n",
              "<table border=\"1\" class=\"dataframe\">\n",
              "  <thead>\n",
              "    <tr style=\"text-align: right;\">\n",
              "      <th></th>\n",
              "      <th>Date</th>\n",
              "      <th>State</th>\n",
              "      <th>Region</th>\n",
              "      <th>Confirmed</th>\n",
              "      <th>Deaths</th>\n",
              "      <th>Recovered</th>\n",
              "    </tr>\n",
              "  </thead>\n",
              "  <tbody>\n",
              "    <tr>\n",
              "      <th>0</th>\n",
              "      <td>4/29/2020</td>\n",
              "      <td>NaN</td>\n",
              "      <td>Afghanistan</td>\n",
              "      <td>1939</td>\n",
              "      <td>60</td>\n",
              "      <td>252</td>\n",
              "    </tr>\n",
              "    <tr>\n",
              "      <th>1</th>\n",
              "      <td>4/29/2020</td>\n",
              "      <td>NaN</td>\n",
              "      <td>Albania</td>\n",
              "      <td>766</td>\n",
              "      <td>30</td>\n",
              "      <td>455</td>\n",
              "    </tr>\n",
              "    <tr>\n",
              "      <th>2</th>\n",
              "      <td>4/29/2020</td>\n",
              "      <td>NaN</td>\n",
              "      <td>Algeria</td>\n",
              "      <td>3848</td>\n",
              "      <td>444</td>\n",
              "      <td>1702</td>\n",
              "    </tr>\n",
              "    <tr>\n",
              "      <th>3</th>\n",
              "      <td>4/29/2020</td>\n",
              "      <td>NaN</td>\n",
              "      <td>Andorra</td>\n",
              "      <td>743</td>\n",
              "      <td>42</td>\n",
              "      <td>423</td>\n",
              "    </tr>\n",
              "    <tr>\n",
              "      <th>4</th>\n",
              "      <td>4/29/2020</td>\n",
              "      <td>NaN</td>\n",
              "      <td>Angola</td>\n",
              "      <td>27</td>\n",
              "      <td>2</td>\n",
              "      <td>7</td>\n",
              "    </tr>\n",
              "    <tr>\n",
              "      <th>...</th>\n",
              "      <td>...</td>\n",
              "      <td>...</td>\n",
              "      <td>...</td>\n",
              "      <td>...</td>\n",
              "      <td>...</td>\n",
              "      <td>...</td>\n",
              "    </tr>\n",
              "    <tr>\n",
              "      <th>316</th>\n",
              "      <td>4/29/2020</td>\n",
              "      <td>Wyoming</td>\n",
              "      <td>US</td>\n",
              "      <td>545</td>\n",
              "      <td>7</td>\n",
              "      <td>0</td>\n",
              "    </tr>\n",
              "    <tr>\n",
              "      <th>317</th>\n",
              "      <td>4/29/2020</td>\n",
              "      <td>Xinjiang</td>\n",
              "      <td>Mainland China</td>\n",
              "      <td>76</td>\n",
              "      <td>3</td>\n",
              "      <td>73</td>\n",
              "    </tr>\n",
              "    <tr>\n",
              "      <th>318</th>\n",
              "      <td>4/29/2020</td>\n",
              "      <td>Yukon</td>\n",
              "      <td>Canada</td>\n",
              "      <td>11</td>\n",
              "      <td>0</td>\n",
              "      <td>0</td>\n",
              "    </tr>\n",
              "    <tr>\n",
              "      <th>319</th>\n",
              "      <td>4/29/2020</td>\n",
              "      <td>Yunnan</td>\n",
              "      <td>Mainland China</td>\n",
              "      <td>185</td>\n",
              "      <td>2</td>\n",
              "      <td>181</td>\n",
              "    </tr>\n",
              "    <tr>\n",
              "      <th>320</th>\n",
              "      <td>4/29/2020</td>\n",
              "      <td>Zhejiang</td>\n",
              "      <td>Mainland China</td>\n",
              "      <td>1268</td>\n",
              "      <td>1</td>\n",
              "      <td>1263</td>\n",
              "    </tr>\n",
              "  </tbody>\n",
              "</table>\n",
              "<p>321 rows × 6 columns</p>\n",
              "</div>"
            ],
            "text/plain": [
              "          Date     State          Region  Confirmed  Deaths  Recovered\n",
              "0    4/29/2020       NaN     Afghanistan       1939      60        252\n",
              "1    4/29/2020       NaN         Albania        766      30        455\n",
              "2    4/29/2020       NaN         Algeria       3848     444       1702\n",
              "3    4/29/2020       NaN         Andorra        743      42        423\n",
              "4    4/29/2020       NaN          Angola         27       2          7\n",
              "..         ...       ...             ...        ...     ...        ...\n",
              "316  4/29/2020   Wyoming              US        545       7          0\n",
              "317  4/29/2020  Xinjiang  Mainland China         76       3         73\n",
              "318  4/29/2020     Yukon          Canada         11       0          0\n",
              "319  4/29/2020    Yunnan  Mainland China        185       2        181\n",
              "320  4/29/2020  Zhejiang  Mainland China       1268       1       1263\n",
              "\n",
              "[321 rows x 6 columns]"
            ]
          },
          "metadata": {
            "tags": []
          },
          "execution_count": 3
        }
      ]
    },
    {
      "cell_type": "code",
      "metadata": {
        "colab": {
          "base_uri": "https://localhost:8080/"
        },
        "id": "F8ugH5HF-J8r",
        "outputId": "7ace7bbf-100d-44c5-8d3b-02b7b270bf4d"
      },
      "source": [
        "data.count()"
      ],
      "execution_count": 5,
      "outputs": [
        {
          "output_type": "execute_result",
          "data": {
            "text/plain": [
              "Date         321\n",
              "State        140\n",
              "Region       321\n",
              "Confirmed    321\n",
              "Deaths       321\n",
              "Recovered    321\n",
              "dtype: int64"
            ]
          },
          "metadata": {
            "tags": []
          },
          "execution_count": 5
        }
      ]
    },
    {
      "cell_type": "code",
      "metadata": {
        "colab": {
          "base_uri": "https://localhost:8080/"
        },
        "id": "TAyPlynSMvks",
        "outputId": "46b48425-978a-4a1c-95bf-14e593ebfa3c"
      },
      "source": [
        "data.isnull().sum()"
      ],
      "execution_count": 9,
      "outputs": [
        {
          "output_type": "execute_result",
          "data": {
            "text/plain": [
              "Date           0\n",
              "State        181\n",
              "Region         0\n",
              "Confirmed      0\n",
              "Deaths         0\n",
              "Recovered      0\n",
              "dtype: int64"
            ]
          },
          "metadata": {
            "tags": []
          },
          "execution_count": 9
        }
      ]
    },
    {
      "cell_type": "code",
      "metadata": {
        "id": "_mZWpGBwM2ji"
      },
      "source": [
        "import seaborn as sns\r\n",
        "import matplotlib.pyplot as plt"
      ],
      "execution_count": 10,
      "outputs": []
    },
    {
      "cell_type": "code",
      "metadata": {
        "colab": {
          "base_uri": "https://localhost:8080/",
          "height": 286
        },
        "id": "EijdclmNM4bi",
        "outputId": "e5b212dd-5a6a-4874-8f77-7e14926bff95"
      },
      "source": [
        "sns.heatmap(data.isnull())"
      ],
      "execution_count": 11,
      "outputs": [
        {
          "output_type": "execute_result",
          "data": {
            "text/plain": [
              "<matplotlib.axes._subplots.AxesSubplot at 0x7f90999d41d0>"
            ]
          },
          "metadata": {
            "tags": []
          },
          "execution_count": 11
        },
        {
          "output_type": "display_data",
          "data": {
            "image/png": "[encoded data removed]",
            "text/plain": [
              "<Figure size 432x288 with 2 Axes>"
            ]
          },
          "metadata": {
            "tags": [],
            "needs_background": "light"
          }
        }
      ]
    },
    {
      "cell_type": "markdown",
      "metadata": {
        "id": "RQI6SfxkNU2k"
      },
      "source": [
        "#1) Show the number of confirmed, death and Recovered cases in each region"
      ]
    },
    {
      "cell_type": "code",
      "metadata": {
        "colab": {
          "base_uri": "https://localhost:8080/",
          "height": 195
        },
        "id": "bX4nPWp6Nw1N",
        "outputId": "3bdf0a1b-b374-4d86-a05b-ef8be1827cdd"
      },
      "source": [
        "data.head(5)"
      ],
      "execution_count": 12,
      "outputs": [
        {
          "output_type": "execute_result",
          "data": {
            "text/html": [
              "<div>\n",
              "<style scoped>\n",
              "    .dataframe tbody tr th:only-of-type {\n",
              "        vertical-align: middle;\n",
              "    }\n",
              "\n",
              "    .dataframe tbody tr th {\n",
              "        vertical-align: top;\n",
              "    }\n",
              "\n",
              "    .dataframe thead th {\n",
              "        text-align: right;\n",
              "    }\n",
              "</style>\n",
              "<table border=\"1\" class=\"dataframe\">\n",
              "  <thead>\n",
              "    <tr style=\"text-align: right;\">\n",
              "      <th></th>\n",
              "      <th>Date</th>\n",
              "      <th>State</th>\n",
              "      <th>Region</th>\n",
              "      <th>Confirmed</th>\n",
              "      <th>Deaths</th>\n",
              "      <th>Recovered</th>\n",
              "    </tr>\n",
              "  </thead>\n",
              "  <tbody>\n",
              "    <tr>\n",
              "      <th>0</th>\n",
              "      <td>4/29/2020</td>\n",
              "      <td>NaN</td>\n",
              "      <td>Afghanistan</td>\n",
              "      <td>1939</td>\n",
              "      <td>60</td>\n",
              "      <td>252</td>\n",
              "    </tr>\n",
              "    <tr>\n",
              "      <th>1</th>\n",
              "      <td>4/29/2020</td>\n",
              "      <td>NaN</td>\n",
              "      <td>Albania</td>\n",
              "      <td>766</td>\n",
              "      <td>30</td>\n",
              "      <td>455</td>\n",
              "    </tr>\n",
              "    <tr>\n",
              "      <th>2</th>\n",
              "      <td>4/29/2020</td>\n",
              "      <td>NaN</td>\n",
              "      <td>Algeria</td>\n",
              "      <td>3848</td>\n",
              "      <td>444</td>\n",
              "      <td>1702</td>\n",
              "    </tr>\n",
              "    <tr>\n",
              "      <th>3</th>\n",
              "      <td>4/29/2020</td>\n",
              "      <td>NaN</td>\n",
              "      <td>Andorra</td>\n",
              "      <td>743</td>\n",
              "      <td>42</td>\n",
              "      <td>423</td>\n",
              "    </tr>\n",
              "    <tr>\n",
              "      <th>4</th>\n",
              "      <td>4/29/2020</td>\n",
              "      <td>NaN</td>\n",
              "      <td>Angola</td>\n",
              "      <td>27</td>\n",
              "      <td>2</td>\n",
              "      <td>7</td>\n",
              "    </tr>\n",
              "  </tbody>\n",
              "</table>\n",
              "</div>"
            ],
            "text/plain": [
              "        Date State       Region  Confirmed  Deaths  Recovered\n",
              "0  4/29/2020   NaN  Afghanistan       1939      60        252\n",
              "1  4/29/2020   NaN      Albania        766      30        455\n",
              "2  4/29/2020   NaN      Algeria       3848     444       1702\n",
              "3  4/29/2020   NaN      Andorra        743      42        423\n",
              "4  4/29/2020   NaN       Angola         27       2          7"
            ]
          },
          "metadata": {
            "tags": []
          },
          "execution_count": 12
        }
      ]
    },
    {
      "cell_type": "code",
      "metadata": {
        "colab": {
          "base_uri": "https://localhost:8080/",
          "height": 431
        },
        "id": "ZZfRyWfbNyhB",
        "outputId": "477b592b-71b9-4bcd-c67f-9218ee31806d"
      },
      "source": [
        "data.groupby('Region').sum()"
      ],
      "execution_count": 14,
      "outputs": [
        {
          "output_type": "execute_result",
          "data": {
            "text/html": [
              "<div>\n",
              "<style scoped>\n",
              "    .dataframe tbody tr th:only-of-type {\n",
              "        vertical-align: middle;\n",
              "    }\n",
              "\n",
              "    .dataframe tbody tr th {\n",
              "        vertical-align: top;\n",
              "    }\n",
              "\n",
              "    .dataframe thead th {\n",
              "        text-align: right;\n",
              "    }\n",
              "</style>\n",
              "<table border=\"1\" class=\"dataframe\">\n",
              "  <thead>\n",
              "    <tr style=\"text-align: right;\">\n",
              "      <th></th>\n",
              "      <th>Confirmed</th>\n",
              "      <th>Deaths</th>\n",
              "      <th>Recovered</th>\n",
              "    </tr>\n",
              "    <tr>\n",
              "      <th>Region</th>\n",
              "      <th></th>\n",
              "      <th></th>\n",
              "      <th></th>\n",
              "    </tr>\n",
              "  </thead>\n",
              "  <tbody>\n",
              "    <tr>\n",
              "      <th>Afghanistan</th>\n",
              "      <td>1939</td>\n",
              "      <td>60</td>\n",
              "      <td>252</td>\n",
              "    </tr>\n",
              "    <tr>\n",
              "      <th>Albania</th>\n",
              "      <td>766</td>\n",
              "      <td>30</td>\n",
              "      <td>455</td>\n",
              "    </tr>\n",
              "    <tr>\n",
              "      <th>Algeria</th>\n",
              "      <td>3848</td>\n",
              "      <td>444</td>\n",
              "      <td>1702</td>\n",
              "    </tr>\n",
              "    <tr>\n",
              "      <th>Andorra</th>\n",
              "      <td>743</td>\n",
              "      <td>42</td>\n",
              "      <td>423</td>\n",
              "    </tr>\n",
              "    <tr>\n",
              "      <th>Angola</th>\n",
              "      <td>27</td>\n",
              "      <td>2</td>\n",
              "      <td>7</td>\n",
              "    </tr>\n",
              "    <tr>\n",
              "      <th>...</th>\n",
              "      <td>...</td>\n",
              "      <td>...</td>\n",
              "      <td>...</td>\n",
              "    </tr>\n",
              "    <tr>\n",
              "      <th>West Bank and Gaza</th>\n",
              "      <td>344</td>\n",
              "      <td>2</td>\n",
              "      <td>71</td>\n",
              "    </tr>\n",
              "    <tr>\n",
              "      <th>Western Sahara</th>\n",
              "      <td>6</td>\n",
              "      <td>0</td>\n",
              "      <td>5</td>\n",
              "    </tr>\n",
              "    <tr>\n",
              "      <th>Yemen</th>\n",
              "      <td>6</td>\n",
              "      <td>0</td>\n",
              "      <td>1</td>\n",
              "    </tr>\n",
              "    <tr>\n",
              "      <th>Zambia</th>\n",
              "      <td>97</td>\n",
              "      <td>3</td>\n",
              "      <td>54</td>\n",
              "    </tr>\n",
              "    <tr>\n",
              "      <th>Zimbabwe</th>\n",
              "      <td>32</td>\n",
              "      <td>4</td>\n",
              "      <td>5</td>\n",
              "    </tr>\n",
              "  </tbody>\n",
              "</table>\n",
              "<p>187 rows × 3 columns</p>\n",
              "</div>"
            ],
            "text/plain": [
              "                    Confirmed  Deaths  Recovered\n",
              "Region                                          \n",
              "Afghanistan              1939      60        252\n",
              "Albania                   766      30        455\n",
              "Algeria                  3848     444       1702\n",
              "Andorra                   743      42        423\n",
              "Angola                     27       2          7\n",
              "...                       ...     ...        ...\n",
              "West Bank and Gaza        344       2         71\n",
              "Western Sahara              6       0          5\n",
              "Yemen                       6       0          1\n",
              "Zambia                     97       3         54\n",
              "Zimbabwe                   32       4          5\n",
              "\n",
              "[187 rows x 3 columns]"
            ]
          },
          "metadata": {
            "tags": []
          },
          "execution_count": 14
        }
      ]
    },
    {
      "cell_type": "code",
      "metadata": {
        "colab": {
          "base_uri": "https://localhost:8080/"
        },
        "id": "mDsidFwYN18n",
        "outputId": "a264f1cd-d5c3-4ce1-d913-b3c3fe5d115b"
      },
      "source": [
        "data.groupby('Region').Confirmed.sum().head(10)"
      ],
      "execution_count": 16,
      "outputs": [
        {
          "output_type": "execute_result",
          "data": {
            "text/plain": [
              "Region\n",
              "Afghanistan             1939\n",
              "Albania                  766\n",
              "Algeria                 3848\n",
              "Andorra                  743\n",
              "Angola                    27\n",
              "Antigua and Barbuda       24\n",
              "Argentina               4285\n",
              "Armenia                 1932\n",
              "Australia               6752\n",
              "Austria                15402\n",
              "Name: Confirmed, dtype: int64"
            ]
          },
          "metadata": {
            "tags": []
          },
          "execution_count": 16
        }
      ]
    },
    {
      "cell_type": "code",
      "metadata": {
        "colab": {
          "base_uri": "https://localhost:8080/"
        },
        "id": "8eV9EkcVOQuW",
        "outputId": "2538a091-4fc4-4bed-b2aa-d24e7ef879cf"
      },
      "source": [
        "data.groupby('Region').Confirmed.sum().sort_values(ascending = False)"
      ],
      "execution_count": 17,
      "outputs": [
        {
          "output_type": "execute_result",
          "data": {
            "text/plain": [
              "Region\n",
              "US                       1039909\n",
              "Spain                     236899\n",
              "Italy                     203591\n",
              "France                    166543\n",
              "UK                        166441\n",
              "                          ...   \n",
              "Sao Tome and Principe          8\n",
              "Papua New Guinea               8\n",
              "Bhutan                         7\n",
              "Western Sahara                 6\n",
              "Yemen                          6\n",
              "Name: Confirmed, Length: 187, dtype: int64"
            ]
          },
          "metadata": {
            "tags": []
          },
          "execution_count": 17
        }
      ]
    },
    {
      "cell_type": "code",
      "metadata": {
        "colab": {
          "base_uri": "https://localhost:8080/",
          "height": 485
        },
        "id": "RhKsa3HrOovn",
        "outputId": "90c1b1e0-429b-43dd-c6e2-c9ad10f10e4b"
      },
      "source": [
        "data.groupby('Region')['Confirmed', 'Recovered'].sum()"
      ],
      "execution_count": 22,
      "outputs": [
        {
          "output_type": "stream",
          "text": [
            "/usr/local/lib/python3.6/dist-packages/ipykernel_launcher.py:1: FutureWarning: Indexing with multiple keys (implicitly converted to a tuple of keys) will be deprecated, use a list instead.\n",
            "  \"\"\"Entry point for launching an IPython kernel.\n"
          ],
          "name": "stderr"
        },
        {
          "output_type": "execute_result",
          "data": {
            "text/html": [
              "<div>\n",
              "<style scoped>\n",
              "    .dataframe tbody tr th:only-of-type {\n",
              "        vertical-align: middle;\n",
              "    }\n",
              "\n",
              "    .dataframe tbody tr th {\n",
              "        vertical-align: top;\n",
              "    }\n",
              "\n",
              "    .dataframe thead th {\n",
              "        text-align: right;\n",
              "    }\n",
              "</style>\n",
              "<table border=\"1\" class=\"dataframe\">\n",
              "  <thead>\n",
              "    <tr style=\"text-align: right;\">\n",
              "      <th></th>\n",
              "      <th>Confirmed</th>\n",
              "      <th>Recovered</th>\n",
              "    </tr>\n",
              "    <tr>\n",
              "      <th>Region</th>\n",
              "      <th></th>\n",
              "      <th></th>\n",
              "    </tr>\n",
              "  </thead>\n",
              "  <tbody>\n",
              "    <tr>\n",
              "      <th>Afghanistan</th>\n",
              "      <td>1939</td>\n",
              "      <td>252</td>\n",
              "    </tr>\n",
              "    <tr>\n",
              "      <th>Albania</th>\n",
              "      <td>766</td>\n",
              "      <td>455</td>\n",
              "    </tr>\n",
              "    <tr>\n",
              "      <th>Algeria</th>\n",
              "      <td>3848</td>\n",
              "      <td>1702</td>\n",
              "    </tr>\n",
              "    <tr>\n",
              "      <th>Andorra</th>\n",
              "      <td>743</td>\n",
              "      <td>423</td>\n",
              "    </tr>\n",
              "    <tr>\n",
              "      <th>Angola</th>\n",
              "      <td>27</td>\n",
              "      <td>7</td>\n",
              "    </tr>\n",
              "    <tr>\n",
              "      <th>...</th>\n",
              "      <td>...</td>\n",
              "      <td>...</td>\n",
              "    </tr>\n",
              "    <tr>\n",
              "      <th>West Bank and Gaza</th>\n",
              "      <td>344</td>\n",
              "      <td>71</td>\n",
              "    </tr>\n",
              "    <tr>\n",
              "      <th>Western Sahara</th>\n",
              "      <td>6</td>\n",
              "      <td>5</td>\n",
              "    </tr>\n",
              "    <tr>\n",
              "      <th>Yemen</th>\n",
              "      <td>6</td>\n",
              "      <td>1</td>\n",
              "    </tr>\n",
              "    <tr>\n",
              "      <th>Zambia</th>\n",
              "      <td>97</td>\n",
              "      <td>54</td>\n",
              "    </tr>\n",
              "    <tr>\n",
              "      <th>Zimbabwe</th>\n",
              "      <td>32</td>\n",
              "      <td>5</td>\n",
              "    </tr>\n",
              "  </tbody>\n",
              "</table>\n",
              "<p>187 rows × 2 columns</p>\n",
              "</div>"
            ],
            "text/plain": [
              "                    Confirmed  Recovered\n",
              "Region                                  \n",
              "Afghanistan              1939        252\n",
              "Albania                   766        455\n",
              "Algeria                  3848       1702\n",
              "Andorra                   743        423\n",
              "Angola                     27          7\n",
              "...                       ...        ...\n",
              "West Bank and Gaza        344         71\n",
              "Western Sahara              6          5\n",
              "Yemen                       6          1\n",
              "Zambia                     97         54\n",
              "Zimbabwe                   32          5\n",
              "\n",
              "[187 rows x 2 columns]"
            ]
          },
          "metadata": {
            "tags": []
          },
          "execution_count": 22
        }
      ]
    },
    {
      "cell_type": "markdown",
      "metadata": {
        "id": "MWOy5bvgQOCk"
      },
      "source": [
        "#2) Remove all the records where confirmed cases is less than 10"
      ]
    },
    {
      "cell_type": "code",
      "metadata": {
        "colab": {
          "base_uri": "https://localhost:8080/",
          "height": 550
        },
        "id": "cvBzbsf3P26N",
        "outputId": "76bfd5ed-0c7d-40bd-f6dc-eb2a0f090f8b"
      },
      "source": [
        "data[data['Confirmed'] < 10]"
      ],
      "execution_count": 23,
      "outputs": [
        {
          "output_type": "execute_result",
          "data": {
            "text/html": [
              "<div>\n",
              "<style scoped>\n",
              "    .dataframe tbody tr th:only-of-type {\n",
              "        vertical-align: middle;\n",
              "    }\n",
              "\n",
              "    .dataframe tbody tr th {\n",
              "        vertical-align: top;\n",
              "    }\n",
              "\n",
              "    .dataframe thead th {\n",
              "        text-align: right;\n",
              "    }\n",
              "</style>\n",
              "<table border=\"1\" class=\"dataframe\">\n",
              "  <thead>\n",
              "    <tr style=\"text-align: right;\">\n",
              "      <th></th>\n",
              "      <th>Date</th>\n",
              "      <th>State</th>\n",
              "      <th>Region</th>\n",
              "      <th>Confirmed</th>\n",
              "      <th>Deaths</th>\n",
              "      <th>Recovered</th>\n",
              "    </tr>\n",
              "  </thead>\n",
              "  <tbody>\n",
              "    <tr>\n",
              "      <th>18</th>\n",
              "      <td>4/29/2020</td>\n",
              "      <td>NaN</td>\n",
              "      <td>Bhutan</td>\n",
              "      <td>7</td>\n",
              "      <td>0</td>\n",
              "      <td>5</td>\n",
              "    </tr>\n",
              "    <tr>\n",
              "      <th>98</th>\n",
              "      <td>4/29/2020</td>\n",
              "      <td>NaN</td>\n",
              "      <td>MS Zaandam</td>\n",
              "      <td>9</td>\n",
              "      <td>2</td>\n",
              "      <td>0</td>\n",
              "    </tr>\n",
              "    <tr>\n",
              "      <th>105</th>\n",
              "      <td>4/29/2020</td>\n",
              "      <td>NaN</td>\n",
              "      <td>Mauritania</td>\n",
              "      <td>8</td>\n",
              "      <td>1</td>\n",
              "      <td>6</td>\n",
              "    </tr>\n",
              "    <tr>\n",
              "      <th>126</th>\n",
              "      <td>4/29/2020</td>\n",
              "      <td>NaN</td>\n",
              "      <td>Papua New Guinea</td>\n",
              "      <td>8</td>\n",
              "      <td>0</td>\n",
              "      <td>0</td>\n",
              "    </tr>\n",
              "    <tr>\n",
              "      <th>140</th>\n",
              "      <td>4/29/2020</td>\n",
              "      <td>NaN</td>\n",
              "      <td>Sao Tome and Principe</td>\n",
              "      <td>8</td>\n",
              "      <td>0</td>\n",
              "      <td>4</td>\n",
              "    </tr>\n",
              "    <tr>\n",
              "      <th>177</th>\n",
              "      <td>4/29/2020</td>\n",
              "      <td>NaN</td>\n",
              "      <td>Western Sahara</td>\n",
              "      <td>6</td>\n",
              "      <td>0</td>\n",
              "      <td>5</td>\n",
              "    </tr>\n",
              "    <tr>\n",
              "      <th>178</th>\n",
              "      <td>4/29/2020</td>\n",
              "      <td>NaN</td>\n",
              "      <td>Yemen</td>\n",
              "      <td>6</td>\n",
              "      <td>0</td>\n",
              "      <td>1</td>\n",
              "    </tr>\n",
              "    <tr>\n",
              "      <th>184</th>\n",
              "      <td>4/29/2020</td>\n",
              "      <td>Anguilla</td>\n",
              "      <td>UK</td>\n",
              "      <td>3</td>\n",
              "      <td>0</td>\n",
              "      <td>3</td>\n",
              "    </tr>\n",
              "    <tr>\n",
              "      <th>192</th>\n",
              "      <td>4/29/2020</td>\n",
              "      <td>Bonaire, Sint Eustatius and Saba</td>\n",
              "      <td>Netherlands</td>\n",
              "      <td>5</td>\n",
              "      <td>0</td>\n",
              "      <td>0</td>\n",
              "    </tr>\n",
              "    <tr>\n",
              "      <th>194</th>\n",
              "      <td>4/29/2020</td>\n",
              "      <td>British Virgin Islands</td>\n",
              "      <td>UK</td>\n",
              "      <td>6</td>\n",
              "      <td>1</td>\n",
              "      <td>3</td>\n",
              "    </tr>\n",
              "    <tr>\n",
              "      <th>203</th>\n",
              "      <td>4/29/2020</td>\n",
              "      <td>Diamond Princess cruise ship</td>\n",
              "      <td>Canada</td>\n",
              "      <td>0</td>\n",
              "      <td>1</td>\n",
              "      <td>0</td>\n",
              "    </tr>\n",
              "    <tr>\n",
              "      <th>272</th>\n",
              "      <td>4/29/2020</td>\n",
              "      <td>Northwest Territories</td>\n",
              "      <td>Canada</td>\n",
              "      <td>5</td>\n",
              "      <td>0</td>\n",
              "      <td>0</td>\n",
              "    </tr>\n",
              "    <tr>\n",
              "      <th>284</th>\n",
              "      <td>4/29/2020</td>\n",
              "      <td>Recovered</td>\n",
              "      <td>Canada</td>\n",
              "      <td>0</td>\n",
              "      <td>0</td>\n",
              "      <td>20327</td>\n",
              "    </tr>\n",
              "    <tr>\n",
              "      <th>285</th>\n",
              "      <td>4/29/2020</td>\n",
              "      <td>Recovered</td>\n",
              "      <td>US</td>\n",
              "      <td>0</td>\n",
              "      <td>0</td>\n",
              "      <td>120720</td>\n",
              "    </tr>\n",
              "    <tr>\n",
              "      <th>288</th>\n",
              "      <td>4/29/2020</td>\n",
              "      <td>Saint Barthelemy</td>\n",
              "      <td>France</td>\n",
              "      <td>6</td>\n",
              "      <td>0</td>\n",
              "      <td>6</td>\n",
              "    </tr>\n",
              "    <tr>\n",
              "      <th>289</th>\n",
              "      <td>4/29/2020</td>\n",
              "      <td>Saint Pierre and Miquelon</td>\n",
              "      <td>France</td>\n",
              "      <td>1</td>\n",
              "      <td>0</td>\n",
              "      <td>0</td>\n",
              "    </tr>\n",
              "    <tr>\n",
              "      <th>305</th>\n",
              "      <td>4/29/2020</td>\n",
              "      <td>Tibet</td>\n",
              "      <td>Mainland China</td>\n",
              "      <td>1</td>\n",
              "      <td>0</td>\n",
              "      <td>1</td>\n",
              "    </tr>\n",
              "  </tbody>\n",
              "</table>\n",
              "</div>"
            ],
            "text/plain": [
              "          Date                             State  ... Deaths  Recovered\n",
              "18   4/29/2020                               NaN  ...      0          5\n",
              "98   4/29/2020                               NaN  ...      2          0\n",
              "105  4/29/2020                               NaN  ...      1          6\n",
              "126  4/29/2020                               NaN  ...      0          0\n",
              "140  4/29/2020                               NaN  ...      0          4\n",
              "177  4/29/2020                               NaN  ...      0          5\n",
              "178  4/29/2020                               NaN  ...      0          1\n",
              "184  4/29/2020                          Anguilla  ...      0          3\n",
              "192  4/29/2020  Bonaire, Sint Eustatius and Saba  ...      0          0\n",
              "194  4/29/2020            British Virgin Islands  ...      1          3\n",
              "203  4/29/2020      Diamond Princess cruise ship  ...      1          0\n",
              "272  4/29/2020             Northwest Territories  ...      0          0\n",
              "284  4/29/2020                         Recovered  ...      0      20327\n",
              "285  4/29/2020                         Recovered  ...      0     120720\n",
              "288  4/29/2020                  Saint Barthelemy  ...      0          6\n",
              "289  4/29/2020         Saint Pierre and Miquelon  ...      0          0\n",
              "305  4/29/2020                             Tibet  ...      0          1\n",
              "\n",
              "[17 rows x 6 columns]"
            ]
          },
          "metadata": {
            "tags": []
          },
          "execution_count": 23
        }
      ]
    },
    {
      "cell_type": "code",
      "metadata": {
        "colab": {
          "base_uri": "https://localhost:8080/",
          "height": 402
        },
        "id": "gnNuy8KcQabZ",
        "outputId": "3676f086-e8e1-4b61-b761-8ac1a035819c"
      },
      "source": [
        "data[~(data['Confirmed'] < 10)]"
      ],
      "execution_count": 26,
      "outputs": [
        {
          "output_type": "execute_result",
          "data": {
            "text/html": [
              "<div>\n",
              "<style scoped>\n",
              "    .dataframe tbody tr th:only-of-type {\n",
              "        vertical-align: middle;\n",
              "    }\n",
              "\n",
              "    .dataframe tbody tr th {\n",
              "        vertical-align: top;\n",
              "    }\n",
              "\n",
              "    .dataframe thead th {\n",
              "        text-align: right;\n",
              "    }\n",
              "</style>\n",
              "<table border=\"1\" class=\"dataframe\">\n",
              "  <thead>\n",
              "    <tr style=\"text-align: right;\">\n",
              "      <th></th>\n",
              "      <th>Date</th>\n",
              "      <th>State</th>\n",
              "      <th>Region</th>\n",
              "      <th>Confirmed</th>\n",
              "      <th>Deaths</th>\n",
              "      <th>Recovered</th>\n",
              "    </tr>\n",
              "  </thead>\n",
              "  <tbody>\n",
              "    <tr>\n",
              "      <th>0</th>\n",
              "      <td>4/29/2020</td>\n",
              "      <td>NaN</td>\n",
              "      <td>Afghanistan</td>\n",
              "      <td>1939</td>\n",
              "      <td>60</td>\n",
              "      <td>252</td>\n",
              "    </tr>\n",
              "    <tr>\n",
              "      <th>1</th>\n",
              "      <td>4/29/2020</td>\n",
              "      <td>NaN</td>\n",
              "      <td>Albania</td>\n",
              "      <td>766</td>\n",
              "      <td>30</td>\n",
              "      <td>455</td>\n",
              "    </tr>\n",
              "    <tr>\n",
              "      <th>2</th>\n",
              "      <td>4/29/2020</td>\n",
              "      <td>NaN</td>\n",
              "      <td>Algeria</td>\n",
              "      <td>3848</td>\n",
              "      <td>444</td>\n",
              "      <td>1702</td>\n",
              "    </tr>\n",
              "    <tr>\n",
              "      <th>3</th>\n",
              "      <td>4/29/2020</td>\n",
              "      <td>NaN</td>\n",
              "      <td>Andorra</td>\n",
              "      <td>743</td>\n",
              "      <td>42</td>\n",
              "      <td>423</td>\n",
              "    </tr>\n",
              "    <tr>\n",
              "      <th>4</th>\n",
              "      <td>4/29/2020</td>\n",
              "      <td>NaN</td>\n",
              "      <td>Angola</td>\n",
              "      <td>27</td>\n",
              "      <td>2</td>\n",
              "      <td>7</td>\n",
              "    </tr>\n",
              "    <tr>\n",
              "      <th>...</th>\n",
              "      <td>...</td>\n",
              "      <td>...</td>\n",
              "      <td>...</td>\n",
              "      <td>...</td>\n",
              "      <td>...</td>\n",
              "      <td>...</td>\n",
              "    </tr>\n",
              "    <tr>\n",
              "      <th>316</th>\n",
              "      <td>4/29/2020</td>\n",
              "      <td>Wyoming</td>\n",
              "      <td>US</td>\n",
              "      <td>545</td>\n",
              "      <td>7</td>\n",
              "      <td>0</td>\n",
              "    </tr>\n",
              "    <tr>\n",
              "      <th>317</th>\n",
              "      <td>4/29/2020</td>\n",
              "      <td>Xinjiang</td>\n",
              "      <td>Mainland China</td>\n",
              "      <td>76</td>\n",
              "      <td>3</td>\n",
              "      <td>73</td>\n",
              "    </tr>\n",
              "    <tr>\n",
              "      <th>318</th>\n",
              "      <td>4/29/2020</td>\n",
              "      <td>Yukon</td>\n",
              "      <td>Canada</td>\n",
              "      <td>11</td>\n",
              "      <td>0</td>\n",
              "      <td>0</td>\n",
              "    </tr>\n",
              "    <tr>\n",
              "      <th>319</th>\n",
              "      <td>4/29/2020</td>\n",
              "      <td>Yunnan</td>\n",
              "      <td>Mainland China</td>\n",
              "      <td>185</td>\n",
              "      <td>2</td>\n",
              "      <td>181</td>\n",
              "    </tr>\n",
              "    <tr>\n",
              "      <th>320</th>\n",
              "      <td>4/29/2020</td>\n",
              "      <td>Zhejiang</td>\n",
              "      <td>Mainland China</td>\n",
              "      <td>1268</td>\n",
              "      <td>1</td>\n",
              "      <td>1263</td>\n",
              "    </tr>\n",
              "  </tbody>\n",
              "</table>\n",
              "<p>304 rows × 6 columns</p>\n",
              "</div>"
            ],
            "text/plain": [
              "          Date     State          Region  Confirmed  Deaths  Recovered\n",
              "0    4/29/2020       NaN     Afghanistan       1939      60        252\n",
              "1    4/29/2020       NaN         Albania        766      30        455\n",
              "2    4/29/2020       NaN         Algeria       3848     444       1702\n",
              "3    4/29/2020       NaN         Andorra        743      42        423\n",
              "4    4/29/2020       NaN          Angola         27       2          7\n",
              "..         ...       ...             ...        ...     ...        ...\n",
              "316  4/29/2020   Wyoming              US        545       7          0\n",
              "317  4/29/2020  Xinjiang  Mainland China         76       3         73\n",
              "318  4/29/2020     Yukon          Canada         11       0          0\n",
              "319  4/29/2020    Yunnan  Mainland China        185       2        181\n",
              "320  4/29/2020  Zhejiang  Mainland China       1268       1       1263\n",
              "\n",
              "[304 rows x 6 columns]"
            ]
          },
          "metadata": {
            "tags": []
          },
          "execution_count": 26
        }
      ]
    },
    {
      "cell_type": "code",
      "metadata": {
        "id": "C6HfqmbdQfUF"
      },
      "source": [
        "data = data[~(data['Confirmed'] < 10)] #removes the data satisfying a certain condition"
      ],
      "execution_count": 27,
      "outputs": []
    },
    {
      "cell_type": "code",
      "metadata": {
        "colab": {
          "base_uri": "https://localhost:8080/",
          "height": 402
        },
        "id": "Ik_RdVUkQwwy",
        "outputId": "be7bd42b-8dda-4876-ab8a-ab20daaa325b"
      },
      "source": [
        "data"
      ],
      "execution_count": 28,
      "outputs": [
        {
          "output_type": "execute_result",
          "data": {
            "text/html": [
              "<div>\n",
              "<style scoped>\n",
              "    .dataframe tbody tr th:only-of-type {\n",
              "        vertical-align: middle;\n",
              "    }\n",
              "\n",
              "    .dataframe tbody tr th {\n",
              "        vertical-align: top;\n",
              "    }\n",
              "\n",
              "    .dataframe thead th {\n",
              "        text-align: right;\n",
              "    }\n",
              "</style>\n",
              "<table border=\"1\" class=\"dataframe\">\n",
              "  <thead>\n",
              "    <tr style=\"text-align: right;\">\n",
              "      <th></th>\n",
              "      <th>Date</th>\n",
              "      <th>State</th>\n",
              "      <th>Region</th>\n",
              "      <th>Confirmed</th>\n",
              "      <th>Deaths</th>\n",
              "      <th>Recovered</th>\n",
              "    </tr>\n",
              "  </thead>\n",
              "  <tbody>\n",
              "    <tr>\n",
              "      <th>0</th>\n",
              "      <td>4/29/2020</td>\n",
              "      <td>NaN</td>\n",
              "      <td>Afghanistan</td>\n",
              "      <td>1939</td>\n",
              "      <td>60</td>\n",
              "      <td>252</td>\n",
              "    </tr>\n",
              "    <tr>\n",
              "      <th>1</th>\n",
              "      <td>4/29/2020</td>\n",
              "      <td>NaN</td>\n",
              "      <td>Albania</td>\n",
              "      <td>766</td>\n",
              "      <td>30</td>\n",
              "      <td>455</td>\n",
              "    </tr>\n",
              "    <tr>\n",
              "      <th>2</th>\n",
              "      <td>4/29/2020</td>\n",
              "      <td>NaN</td>\n",
              "      <td>Algeria</td>\n",
              "      <td>3848</td>\n",
              "      <td>444</td>\n",
              "      <td>1702</td>\n",
              "    </tr>\n",
              "    <tr>\n",
              "      <th>3</th>\n",
              "      <td>4/29/2020</td>\n",
              "      <td>NaN</td>\n",
              "      <td>Andorra</td>\n",
              "      <td>743</td>\n",
              "      <td>42</td>\n",
              "      <td>423</td>\n",
              "    </tr>\n",
              "    <tr>\n",
              "      <th>4</th>\n",
              "      <td>4/29/2020</td>\n",
              "      <td>NaN</td>\n",
              "      <td>Angola</td>\n",
              "      <td>27</td>\n",
              "      <td>2</td>\n",
              "      <td>7</td>\n",
              "    </tr>\n",
              "    <tr>\n",
              "      <th>...</th>\n",
              "      <td>...</td>\n",
              "      <td>...</td>\n",
              "      <td>...</td>\n",
              "      <td>...</td>\n",
              "      <td>...</td>\n",
              "      <td>...</td>\n",
              "    </tr>\n",
              "    <tr>\n",
              "      <th>316</th>\n",
              "      <td>4/29/2020</td>\n",
              "      <td>Wyoming</td>\n",
              "      <td>US</td>\n",
              "      <td>545</td>\n",
              "      <td>7</td>\n",
              "      <td>0</td>\n",
              "    </tr>\n",
              "    <tr>\n",
              "      <th>317</th>\n",
              "      <td>4/29/2020</td>\n",
              "      <td>Xinjiang</td>\n",
              "      <td>Mainland China</td>\n",
              "      <td>76</td>\n",
              "      <td>3</td>\n",
              "      <td>73</td>\n",
              "    </tr>\n",
              "    <tr>\n",
              "      <th>318</th>\n",
              "      <td>4/29/2020</td>\n",
              "      <td>Yukon</td>\n",
              "      <td>Canada</td>\n",
              "      <td>11</td>\n",
              "      <td>0</td>\n",
              "      <td>0</td>\n",
              "    </tr>\n",
              "    <tr>\n",
              "      <th>319</th>\n",
              "      <td>4/29/2020</td>\n",
              "      <td>Yunnan</td>\n",
              "      <td>Mainland China</td>\n",
              "      <td>185</td>\n",
              "      <td>2</td>\n",
              "      <td>181</td>\n",
              "    </tr>\n",
              "    <tr>\n",
              "      <th>320</th>\n",
              "      <td>4/29/2020</td>\n",
              "      <td>Zhejiang</td>\n",
              "      <td>Mainland China</td>\n",
              "      <td>1268</td>\n",
              "      <td>1</td>\n",
              "      <td>1263</td>\n",
              "    </tr>\n",
              "  </tbody>\n",
              "</table>\n",
              "<p>304 rows × 6 columns</p>\n",
              "</div>"
            ],
            "text/plain": [
              "          Date     State          Region  Confirmed  Deaths  Recovered\n",
              "0    4/29/2020       NaN     Afghanistan       1939      60        252\n",
              "1    4/29/2020       NaN         Albania        766      30        455\n",
              "2    4/29/2020       NaN         Algeria       3848     444       1702\n",
              "3    4/29/2020       NaN         Andorra        743      42        423\n",
              "4    4/29/2020       NaN          Angola         27       2          7\n",
              "..         ...       ...             ...        ...     ...        ...\n",
              "316  4/29/2020   Wyoming              US        545       7          0\n",
              "317  4/29/2020  Xinjiang  Mainland China         76       3         73\n",
              "318  4/29/2020     Yukon          Canada         11       0          0\n",
              "319  4/29/2020    Yunnan  Mainland China        185       2        181\n",
              "320  4/29/2020  Zhejiang  Mainland China       1268       1       1263\n",
              "\n",
              "[304 rows x 6 columns]"
            ]
          },
          "metadata": {
            "tags": []
          },
          "execution_count": 28
        }
      ]
    },
    {
      "cell_type": "code",
      "metadata": {
        "colab": {
          "base_uri": "https://localhost:8080/"
        },
        "id": "zC_A4aqSQyIk",
        "outputId": "287c8e0e-9e7b-40df-f84c-15a82bdf88d9"
      },
      "source": [
        "data[data['Confirmed'] < 10].sum()"
      ],
      "execution_count": 29,
      "outputs": [
        {
          "output_type": "execute_result",
          "data": {
            "text/plain": [
              "Date         0.0\n",
              "State        0.0\n",
              "Region       0.0\n",
              "Confirmed    0.0\n",
              "Deaths       0.0\n",
              "Recovered    0.0\n",
              "dtype: float64"
            ]
          },
          "metadata": {
            "tags": []
          },
          "execution_count": 29
        }
      ]
    },
    {
      "cell_type": "code",
      "metadata": {
        "colab": {
          "base_uri": "https://localhost:8080/",
          "height": 47
        },
        "id": "VV8R1MAgQ5h6",
        "outputId": "775a78ec-843f-4635-98f9-cf110d8f2711"
      },
      "source": [
        "data[data['Confirmed'] < 10]"
      ],
      "execution_count": 30,
      "outputs": [
        {
          "output_type": "execute_result",
          "data": {
            "text/html": [
              "<div>\n",
              "<style scoped>\n",
              "    .dataframe tbody tr th:only-of-type {\n",
              "        vertical-align: middle;\n",
              "    }\n",
              "\n",
              "    .dataframe tbody tr th {\n",
              "        vertical-align: top;\n",
              "    }\n",
              "\n",
              "    .dataframe thead th {\n",
              "        text-align: right;\n",
              "    }\n",
              "</style>\n",
              "<table border=\"1\" class=\"dataframe\">\n",
              "  <thead>\n",
              "    <tr style=\"text-align: right;\">\n",
              "      <th></th>\n",
              "      <th>Date</th>\n",
              "      <th>State</th>\n",
              "      <th>Region</th>\n",
              "      <th>Confirmed</th>\n",
              "      <th>Deaths</th>\n",
              "      <th>Recovered</th>\n",
              "    </tr>\n",
              "  </thead>\n",
              "  <tbody>\n",
              "  </tbody>\n",
              "</table>\n",
              "</div>"
            ],
            "text/plain": [
              "Empty DataFrame\n",
              "Columns: [Date, State, Region, Confirmed, Deaths, Recovered]\n",
              "Index: []"
            ]
          },
          "metadata": {
            "tags": []
          },
          "execution_count": 30
        }
      ]
    },
    {
      "cell_type": "markdown",
      "metadata": {
        "id": "1Mkup0AcROWS"
      },
      "source": [
        "#3) In which region maximum number of confirmed cases were recorded"
      ]
    },
    {
      "cell_type": "code",
      "metadata": {
        "colab": {
          "base_uri": "https://localhost:8080/"
        },
        "id": "NvH3RMpdRDd2",
        "outputId": "1305ed2f-eb44-4974-9fb9-55f30c6f8599"
      },
      "source": [
        "data.groupby('Region')['Confirmed'].sum().sort_values(ascending = False)"
      ],
      "execution_count": 35,
      "outputs": [
        {
          "output_type": "execute_result",
          "data": {
            "text/plain": [
              "Region\n",
              "US                       1039909\n",
              "Spain                     236899\n",
              "Italy                     203591\n",
              "France                    166543\n",
              "UK                        166441\n",
              "                          ...   \n",
              "Sao Tome and Principe          8\n",
              "Papua New Guinea               8\n",
              "Bhutan                         7\n",
              "Western Sahara                 6\n",
              "Yemen                          6\n",
              "Name: Confirmed, Length: 187, dtype: int64"
            ]
          },
          "metadata": {
            "tags": []
          },
          "execution_count": 35
        }
      ]
    },
    {
      "cell_type": "markdown",
      "metadata": {
        "id": "YJGVg1juSefQ"
      },
      "source": [
        "#4) In which region minimum number of death cases were recorded\r\n"
      ]
    },
    {
      "cell_type": "code",
      "metadata": {
        "colab": {
          "base_uri": "https://localhost:8080/"
        },
        "id": "rgNkdtlWRibp",
        "outputId": "cd4526e6-a145-413d-e35e-a980afb6881a"
      },
      "source": [
        "data.groupby('Region')['Deaths'].sum().sort_values(ascending=True).head(50)"
      ],
      "execution_count": 40,
      "outputs": [
        {
          "output_type": "execute_result",
          "data": {
            "text/plain": [
              "Region\n",
              "Laos                                0\n",
              "Mongolia                            0\n",
              "Mozambique                          0\n",
              "Cambodia                            0\n",
              "Fiji                                0\n",
              "Namibia                             0\n",
              "Nepal                               0\n",
              "Madagascar                          0\n",
              "Macau                               0\n",
              "Papua New Guinea                    0\n",
              "Rwanda                              0\n",
              "Saint Kitts and Nevis               0\n",
              "Bhutan                              0\n",
              "Dominica                            0\n",
              "Central African Republic            0\n",
              "Saint Lucia                         0\n",
              "Holy See                            0\n",
              "Sao Tome and Principe               0\n",
              "Yemen                               0\n",
              "Western Sahara                      0\n",
              "Eritrea                             0\n",
              "Vietnam                             0\n",
              "Saint Vincent and the Grenadines    0\n",
              "Timor-Leste                         0\n",
              "Uganda                              0\n",
              "Grenada                             0\n",
              "South Sudan                         0\n",
              "Seychelles                          0\n",
              "Liechtenstein                       1\n",
              "Maldives                            1\n",
              "Gambia                              1\n",
              "Eswatini                            1\n",
              "Guinea-Bissau                       1\n",
              "Equatorial Guinea                   1\n",
              "Mauritania                          1\n",
              "Cabo Verde                          1\n",
              "Benin                               1\n",
              "Burundi                             1\n",
              "Suriname                            1\n",
              "Brunei                              1\n",
              "Botswana                            1\n",
              "West Bank and Gaza                  2\n",
              "Angola                              2\n",
              "Belize                              2\n",
              "Djibouti                            2\n",
              "Chad                                2\n",
              "Libya                               2\n",
              "MS Zaandam                          2\n",
              "Nicaragua                           3\n",
              "Syria                               3\n",
              "Name: Deaths, dtype: int64"
            ]
          },
          "metadata": {
            "tags": []
          },
          "execution_count": 40
        }
      ]
    },
    {
      "cell_type": "markdown",
      "metadata": {
        "id": "dJumdm5lSs-P"
      },
      "source": [
        "#5) How many confirmed , Death and recovered cases were reported from India till APRIL 2020"
      ]
    },
    {
      "cell_type": "code",
      "metadata": {
        "colab": {
          "base_uri": "https://localhost:8080/",
          "height": 77
        },
        "id": "KzFIRUAwRrg6",
        "outputId": "ac2452c6-22a5-4123-a7e1-d13d3683c7b5"
      },
      "source": [
        "data[data['Region'] == 'India']"
      ],
      "execution_count": 37,
      "outputs": [
        {
          "output_type": "execute_result",
          "data": {
            "text/html": [
              "<div>\n",
              "<style scoped>\n",
              "    .dataframe tbody tr th:only-of-type {\n",
              "        vertical-align: middle;\n",
              "    }\n",
              "\n",
              "    .dataframe tbody tr th {\n",
              "        vertical-align: top;\n",
              "    }\n",
              "\n",
              "    .dataframe thead th {\n",
              "        text-align: right;\n",
              "    }\n",
              "</style>\n",
              "<table border=\"1\" class=\"dataframe\">\n",
              "  <thead>\n",
              "    <tr style=\"text-align: right;\">\n",
              "      <th></th>\n",
              "      <th>Date</th>\n",
              "      <th>State</th>\n",
              "      <th>Region</th>\n",
              "      <th>Confirmed</th>\n",
              "      <th>Deaths</th>\n",
              "      <th>Recovered</th>\n",
              "    </tr>\n",
              "  </thead>\n",
              "  <tbody>\n",
              "    <tr>\n",
              "      <th>74</th>\n",
              "      <td>4/29/2020</td>\n",
              "      <td>NaN</td>\n",
              "      <td>India</td>\n",
              "      <td>33062</td>\n",
              "      <td>1079</td>\n",
              "      <td>8437</td>\n",
              "    </tr>\n",
              "  </tbody>\n",
              "</table>\n",
              "</div>"
            ],
            "text/plain": [
              "         Date State Region  Confirmed  Deaths  Recovered\n",
              "74  4/29/2020   NaN  India      33062    1079       8437"
            ]
          },
          "metadata": {
            "tags": []
          },
          "execution_count": 37
        }
      ]
    },
    {
      "cell_type": "markdown",
      "metadata": {
        "id": "V4S941VbTtwX"
      },
      "source": [
        "#6) Sort the entire data and write the no of confirmed cases in acsending order"
      ]
    },
    {
      "cell_type": "code",
      "metadata": {
        "colab": {
          "base_uri": "https://localhost:8080/",
          "height": 639
        },
        "id": "ZCE2WMMhTGNa",
        "outputId": "1ecddc01-bc5e-406c-ed27-f3ef086c6e88"
      },
      "source": [
        "data.sort_values(by=['Confirmed'], ascending=True).head(20)"
      ],
      "execution_count": 48,
      "outputs": [
        {
          "output_type": "execute_result",
          "data": {
            "text/html": [
              "<div>\n",
              "<style scoped>\n",
              "    .dataframe tbody tr th:only-of-type {\n",
              "        vertical-align: middle;\n",
              "    }\n",
              "\n",
              "    .dataframe tbody tr th {\n",
              "        vertical-align: top;\n",
              "    }\n",
              "\n",
              "    .dataframe thead th {\n",
              "        text-align: right;\n",
              "    }\n",
              "</style>\n",
              "<table border=\"1\" class=\"dataframe\">\n",
              "  <thead>\n",
              "    <tr style=\"text-align: right;\">\n",
              "      <th></th>\n",
              "      <th>Date</th>\n",
              "      <th>State</th>\n",
              "      <th>Region</th>\n",
              "      <th>Confirmed</th>\n",
              "      <th>Deaths</th>\n",
              "      <th>Recovered</th>\n",
              "    </tr>\n",
              "  </thead>\n",
              "  <tbody>\n",
              "    <tr>\n",
              "      <th>285</th>\n",
              "      <td>4/29/2020</td>\n",
              "      <td>Recovered</td>\n",
              "      <td>US</td>\n",
              "      <td>0</td>\n",
              "      <td>0</td>\n",
              "      <td>120720</td>\n",
              "    </tr>\n",
              "    <tr>\n",
              "      <th>284</th>\n",
              "      <td>4/29/2020</td>\n",
              "      <td>Recovered</td>\n",
              "      <td>Canada</td>\n",
              "      <td>0</td>\n",
              "      <td>0</td>\n",
              "      <td>20327</td>\n",
              "    </tr>\n",
              "    <tr>\n",
              "      <th>203</th>\n",
              "      <td>4/29/2020</td>\n",
              "      <td>Diamond Princess cruise ship</td>\n",
              "      <td>Canada</td>\n",
              "      <td>0</td>\n",
              "      <td>1</td>\n",
              "      <td>0</td>\n",
              "    </tr>\n",
              "    <tr>\n",
              "      <th>305</th>\n",
              "      <td>4/29/2020</td>\n",
              "      <td>Tibet</td>\n",
              "      <td>Mainland China</td>\n",
              "      <td>1</td>\n",
              "      <td>0</td>\n",
              "      <td>1</td>\n",
              "    </tr>\n",
              "    <tr>\n",
              "      <th>289</th>\n",
              "      <td>4/29/2020</td>\n",
              "      <td>Saint Pierre and Miquelon</td>\n",
              "      <td>France</td>\n",
              "      <td>1</td>\n",
              "      <td>0</td>\n",
              "      <td>0</td>\n",
              "    </tr>\n",
              "    <tr>\n",
              "      <th>184</th>\n",
              "      <td>4/29/2020</td>\n",
              "      <td>Anguilla</td>\n",
              "      <td>UK</td>\n",
              "      <td>3</td>\n",
              "      <td>0</td>\n",
              "      <td>3</td>\n",
              "    </tr>\n",
              "    <tr>\n",
              "      <th>192</th>\n",
              "      <td>4/29/2020</td>\n",
              "      <td>Bonaire, Sint Eustatius and Saba</td>\n",
              "      <td>Netherlands</td>\n",
              "      <td>5</td>\n",
              "      <td>0</td>\n",
              "      <td>0</td>\n",
              "    </tr>\n",
              "    <tr>\n",
              "      <th>272</th>\n",
              "      <td>4/29/2020</td>\n",
              "      <td>Northwest Territories</td>\n",
              "      <td>Canada</td>\n",
              "      <td>5</td>\n",
              "      <td>0</td>\n",
              "      <td>0</td>\n",
              "    </tr>\n",
              "    <tr>\n",
              "      <th>288</th>\n",
              "      <td>4/29/2020</td>\n",
              "      <td>Saint Barthelemy</td>\n",
              "      <td>France</td>\n",
              "      <td>6</td>\n",
              "      <td>0</td>\n",
              "      <td>6</td>\n",
              "    </tr>\n",
              "    <tr>\n",
              "      <th>178</th>\n",
              "      <td>4/29/2020</td>\n",
              "      <td>NaN</td>\n",
              "      <td>Yemen</td>\n",
              "      <td>6</td>\n",
              "      <td>0</td>\n",
              "      <td>1</td>\n",
              "    </tr>\n",
              "    <tr>\n",
              "      <th>194</th>\n",
              "      <td>4/29/2020</td>\n",
              "      <td>British Virgin Islands</td>\n",
              "      <td>UK</td>\n",
              "      <td>6</td>\n",
              "      <td>1</td>\n",
              "      <td>3</td>\n",
              "    </tr>\n",
              "    <tr>\n",
              "      <th>177</th>\n",
              "      <td>4/29/2020</td>\n",
              "      <td>NaN</td>\n",
              "      <td>Western Sahara</td>\n",
              "      <td>6</td>\n",
              "      <td>0</td>\n",
              "      <td>5</td>\n",
              "    </tr>\n",
              "    <tr>\n",
              "      <th>18</th>\n",
              "      <td>4/29/2020</td>\n",
              "      <td>NaN</td>\n",
              "      <td>Bhutan</td>\n",
              "      <td>7</td>\n",
              "      <td>0</td>\n",
              "      <td>5</td>\n",
              "    </tr>\n",
              "    <tr>\n",
              "      <th>126</th>\n",
              "      <td>4/29/2020</td>\n",
              "      <td>NaN</td>\n",
              "      <td>Papua New Guinea</td>\n",
              "      <td>8</td>\n",
              "      <td>0</td>\n",
              "      <td>0</td>\n",
              "    </tr>\n",
              "    <tr>\n",
              "      <th>140</th>\n",
              "      <td>4/29/2020</td>\n",
              "      <td>NaN</td>\n",
              "      <td>Sao Tome and Principe</td>\n",
              "      <td>8</td>\n",
              "      <td>0</td>\n",
              "      <td>4</td>\n",
              "    </tr>\n",
              "    <tr>\n",
              "      <th>105</th>\n",
              "      <td>4/29/2020</td>\n",
              "      <td>NaN</td>\n",
              "      <td>Mauritania</td>\n",
              "      <td>8</td>\n",
              "      <td>1</td>\n",
              "      <td>6</td>\n",
              "    </tr>\n",
              "    <tr>\n",
              "      <th>98</th>\n",
              "      <td>4/29/2020</td>\n",
              "      <td>NaN</td>\n",
              "      <td>MS Zaandam</td>\n",
              "      <td>9</td>\n",
              "      <td>2</td>\n",
              "      <td>0</td>\n",
              "    </tr>\n",
              "    <tr>\n",
              "      <th>156</th>\n",
              "      <td>4/29/2020</td>\n",
              "      <td>NaN</td>\n",
              "      <td>Suriname</td>\n",
              "      <td>10</td>\n",
              "      <td>1</td>\n",
              "      <td>8</td>\n",
              "    </tr>\n",
              "    <tr>\n",
              "      <th>70</th>\n",
              "      <td>4/29/2020</td>\n",
              "      <td>NaN</td>\n",
              "      <td>Holy See</td>\n",
              "      <td>10</td>\n",
              "      <td>0</td>\n",
              "      <td>2</td>\n",
              "    </tr>\n",
              "    <tr>\n",
              "      <th>59</th>\n",
              "      <td>4/29/2020</td>\n",
              "      <td>NaN</td>\n",
              "      <td>Gambia</td>\n",
              "      <td>10</td>\n",
              "      <td>1</td>\n",
              "      <td>8</td>\n",
              "    </tr>\n",
              "  </tbody>\n",
              "</table>\n",
              "</div>"
            ],
            "text/plain": [
              "          Date                             State  ... Deaths  Recovered\n",
              "285  4/29/2020                         Recovered  ...      0     120720\n",
              "284  4/29/2020                         Recovered  ...      0      20327\n",
              "203  4/29/2020      Diamond Princess cruise ship  ...      1          0\n",
              "305  4/29/2020                             Tibet  ...      0          1\n",
              "289  4/29/2020         Saint Pierre and Miquelon  ...      0          0\n",
              "184  4/29/2020                          Anguilla  ...      0          3\n",
              "192  4/29/2020  Bonaire, Sint Eustatius and Saba  ...      0          0\n",
              "272  4/29/2020             Northwest Territories  ...      0          0\n",
              "288  4/29/2020                  Saint Barthelemy  ...      0          6\n",
              "178  4/29/2020                               NaN  ...      0          1\n",
              "194  4/29/2020            British Virgin Islands  ...      1          3\n",
              "177  4/29/2020                               NaN  ...      0          5\n",
              "18   4/29/2020                               NaN  ...      0          5\n",
              "126  4/29/2020                               NaN  ...      0          0\n",
              "140  4/29/2020                               NaN  ...      0          4\n",
              "105  4/29/2020                               NaN  ...      1          6\n",
              "98   4/29/2020                               NaN  ...      2          0\n",
              "156  4/29/2020                               NaN  ...      1          8\n",
              "70   4/29/2020                               NaN  ...      0          2\n",
              "59   4/29/2020                               NaN  ...      1          8\n",
              "\n",
              "[20 rows x 6 columns]"
            ]
          },
          "metadata": {
            "tags": []
          },
          "execution_count": 48
        }
      ]
    },
    {
      "cell_type": "markdown",
      "metadata": {
        "id": "q5cg9MgeU1w6"
      },
      "source": [
        "#7)6) Sort the entire data and write the no of Recovered cases in descending order"
      ]
    },
    {
      "cell_type": "code",
      "metadata": {
        "colab": {
          "base_uri": "https://localhost:8080/",
          "height": 639
        },
        "id": "auuNBn9-ULZI",
        "outputId": "f4194c57-fcf1-46c2-b77a-44e342352200"
      },
      "source": [
        "data.sort_values( by = ['Recovered'], ascending=False ).head(20)"
      ],
      "execution_count": 49,
      "outputs": [
        {
          "output_type": "execute_result",
          "data": {
            "text/html": [
              "<div>\n",
              "<style scoped>\n",
              "    .dataframe tbody tr th:only-of-type {\n",
              "        vertical-align: middle;\n",
              "    }\n",
              "\n",
              "    .dataframe tbody tr th {\n",
              "        vertical-align: top;\n",
              "    }\n",
              "\n",
              "    .dataframe thead th {\n",
              "        text-align: right;\n",
              "    }\n",
              "</style>\n",
              "<table border=\"1\" class=\"dataframe\">\n",
              "  <thead>\n",
              "    <tr style=\"text-align: right;\">\n",
              "      <th></th>\n",
              "      <th>Date</th>\n",
              "      <th>State</th>\n",
              "      <th>Region</th>\n",
              "      <th>Confirmed</th>\n",
              "      <th>Deaths</th>\n",
              "      <th>Recovered</th>\n",
              "    </tr>\n",
              "  </thead>\n",
              "  <tbody>\n",
              "    <tr>\n",
              "      <th>153</th>\n",
              "      <td>4/29/2020</td>\n",
              "      <td>NaN</td>\n",
              "      <td>Spain</td>\n",
              "      <td>236899</td>\n",
              "      <td>24275</td>\n",
              "      <td>132929</td>\n",
              "    </tr>\n",
              "    <tr>\n",
              "      <th>285</th>\n",
              "      <td>4/29/2020</td>\n",
              "      <td>Recovered</td>\n",
              "      <td>US</td>\n",
              "      <td>0</td>\n",
              "      <td>0</td>\n",
              "      <td>120720</td>\n",
              "    </tr>\n",
              "    <tr>\n",
              "      <th>61</th>\n",
              "      <td>4/29/2020</td>\n",
              "      <td>NaN</td>\n",
              "      <td>Germany</td>\n",
              "      <td>161539</td>\n",
              "      <td>6467</td>\n",
              "      <td>120400</td>\n",
              "    </tr>\n",
              "    <tr>\n",
              "      <th>76</th>\n",
              "      <td>4/29/2020</td>\n",
              "      <td>NaN</td>\n",
              "      <td>Iran</td>\n",
              "      <td>93657</td>\n",
              "      <td>5957</td>\n",
              "      <td>73791</td>\n",
              "    </tr>\n",
              "    <tr>\n",
              "      <th>80</th>\n",
              "      <td>4/29/2020</td>\n",
              "      <td>NaN</td>\n",
              "      <td>Italy</td>\n",
              "      <td>203591</td>\n",
              "      <td>27682</td>\n",
              "      <td>71252</td>\n",
              "    </tr>\n",
              "    <tr>\n",
              "      <th>229</th>\n",
              "      <td>4/29/2020</td>\n",
              "      <td>Hubei</td>\n",
              "      <td>Mainland China</td>\n",
              "      <td>68128</td>\n",
              "      <td>4512</td>\n",
              "      <td>63616</td>\n",
              "    </tr>\n",
              "    <tr>\n",
              "      <th>57</th>\n",
              "      <td>4/29/2020</td>\n",
              "      <td>NaN</td>\n",
              "      <td>France</td>\n",
              "      <td>165093</td>\n",
              "      <td>24087</td>\n",
              "      <td>48228</td>\n",
              "    </tr>\n",
              "    <tr>\n",
              "      <th>167</th>\n",
              "      <td>4/29/2020</td>\n",
              "      <td>NaN</td>\n",
              "      <td>Turkey</td>\n",
              "      <td>117589</td>\n",
              "      <td>3081</td>\n",
              "      <td>44040</td>\n",
              "    </tr>\n",
              "    <tr>\n",
              "      <th>22</th>\n",
              "      <td>4/29/2020</td>\n",
              "      <td>NaN</td>\n",
              "      <td>Brazil</td>\n",
              "      <td>79685</td>\n",
              "      <td>5513</td>\n",
              "      <td>34132</td>\n",
              "    </tr>\n",
              "    <tr>\n",
              "      <th>158</th>\n",
              "      <td>4/29/2020</td>\n",
              "      <td>NaN</td>\n",
              "      <td>Switzerland</td>\n",
              "      <td>29407</td>\n",
              "      <td>1716</td>\n",
              "      <td>22600</td>\n",
              "    </tr>\n",
              "    <tr>\n",
              "      <th>284</th>\n",
              "      <td>4/29/2020</td>\n",
              "      <td>Recovered</td>\n",
              "      <td>Canada</td>\n",
              "      <td>0</td>\n",
              "      <td>0</td>\n",
              "      <td>20327</td>\n",
              "    </tr>\n",
              "    <tr>\n",
              "      <th>78</th>\n",
              "      <td>4/29/2020</td>\n",
              "      <td>NaN</td>\n",
              "      <td>Ireland</td>\n",
              "      <td>20253</td>\n",
              "      <td>1190</td>\n",
              "      <td>13386</td>\n",
              "    </tr>\n",
              "    <tr>\n",
              "      <th>8</th>\n",
              "      <td>4/29/2020</td>\n",
              "      <td>NaN</td>\n",
              "      <td>Austria</td>\n",
              "      <td>15402</td>\n",
              "      <td>580</td>\n",
              "      <td>12779</td>\n",
              "    </tr>\n",
              "    <tr>\n",
              "      <th>107</th>\n",
              "      <td>4/29/2020</td>\n",
              "      <td>NaN</td>\n",
              "      <td>Mexico</td>\n",
              "      <td>17799</td>\n",
              "      <td>1732</td>\n",
              "      <td>11423</td>\n",
              "    </tr>\n",
              "    <tr>\n",
              "      <th>15</th>\n",
              "      <td>4/29/2020</td>\n",
              "      <td>NaN</td>\n",
              "      <td>Belgium</td>\n",
              "      <td>47859</td>\n",
              "      <td>7501</td>\n",
              "      <td>11283</td>\n",
              "    </tr>\n",
              "    <tr>\n",
              "      <th>134</th>\n",
              "      <td>4/29/2020</td>\n",
              "      <td>NaN</td>\n",
              "      <td>Russia</td>\n",
              "      <td>99399</td>\n",
              "      <td>972</td>\n",
              "      <td>10286</td>\n",
              "    </tr>\n",
              "    <tr>\n",
              "      <th>128</th>\n",
              "      <td>4/29/2020</td>\n",
              "      <td>NaN</td>\n",
              "      <td>Peru</td>\n",
              "      <td>33931</td>\n",
              "      <td>943</td>\n",
              "      <td>10037</td>\n",
              "    </tr>\n",
              "    <tr>\n",
              "      <th>151</th>\n",
              "      <td>4/29/2020</td>\n",
              "      <td>NaN</td>\n",
              "      <td>South Korea</td>\n",
              "      <td>10765</td>\n",
              "      <td>247</td>\n",
              "      <td>9059</td>\n",
              "    </tr>\n",
              "    <tr>\n",
              "      <th>74</th>\n",
              "      <td>4/29/2020</td>\n",
              "      <td>NaN</td>\n",
              "      <td>India</td>\n",
              "      <td>33062</td>\n",
              "      <td>1079</td>\n",
              "      <td>8437</td>\n",
              "    </tr>\n",
              "    <tr>\n",
              "      <th>79</th>\n",
              "      <td>4/29/2020</td>\n",
              "      <td>NaN</td>\n",
              "      <td>Israel</td>\n",
              "      <td>15834</td>\n",
              "      <td>215</td>\n",
              "      <td>8233</td>\n",
              "    </tr>\n",
              "  </tbody>\n",
              "</table>\n",
              "</div>"
            ],
            "text/plain": [
              "          Date      State          Region  Confirmed  Deaths  Recovered\n",
              "153  4/29/2020        NaN           Spain     236899   24275     132929\n",
              "285  4/29/2020  Recovered              US          0       0     120720\n",
              "61   4/29/2020        NaN         Germany     161539    6467     120400\n",
              "76   4/29/2020        NaN            Iran      93657    5957      73791\n",
              "80   4/29/2020        NaN           Italy     203591   27682      71252\n",
              "229  4/29/2020      Hubei  Mainland China      68128    4512      63616\n",
              "57   4/29/2020        NaN          France     165093   24087      48228\n",
              "167  4/29/2020        NaN          Turkey     117589    3081      44040\n",
              "22   4/29/2020        NaN          Brazil      79685    5513      34132\n",
              "158  4/29/2020        NaN     Switzerland      29407    1716      22600\n",
              "284  4/29/2020  Recovered          Canada          0       0      20327\n",
              "78   4/29/2020        NaN         Ireland      20253    1190      13386\n",
              "8    4/29/2020        NaN         Austria      15402     580      12779\n",
              "107  4/29/2020        NaN          Mexico      17799    1732      11423\n",
              "15   4/29/2020        NaN         Belgium      47859    7501      11283\n",
              "134  4/29/2020        NaN          Russia      99399     972      10286\n",
              "128  4/29/2020        NaN            Peru      33931     943      10037\n",
              "151  4/29/2020        NaN     South Korea      10765     247       9059\n",
              "74   4/29/2020        NaN           India      33062    1079       8437\n",
              "79   4/29/2020        NaN          Israel      15834     215       8233"
            ]
          },
          "metadata": {
            "tags": []
          },
          "execution_count": 49
        }
      ]
    }
  ]
}